{
 "cells": [
  {
   "cell_type": "markdown",
   "id": "41fb6fe3-d5e9-4ca7-bf3f-043280e2ac4e",
   "metadata": {},
   "source": [
    "# Chess opening project"
   ]
  },
  {
   "cell_type": "markdown",
   "id": "ecb81716-82fb-4510-b332-705ad49531c3",
   "metadata": {
    "execution": {
     "iopub.execute_input": "2024-08-05T14:39:33.792486Z",
     "iopub.status.busy": "2024-08-05T14:39:33.791469Z",
     "iopub.status.idle": "2024-08-05T14:39:33.803061Z",
     "shell.execute_reply": "2024-08-05T14:39:33.801053Z",
     "shell.execute_reply.started": "2024-08-05T14:39:33.792486Z"
    }
   },
   "source": [
    "## Section 1: Installing modules\n",
    "\n",
    "The below code iniatlises the required modules."
   ]
  },
  {
   "cell_type": "code",
   "execution_count": 83,
   "id": "a52ada1d-e218-4cc1-b858-7ecc707fc187",
   "metadata": {
    "execution": {
     "iopub.execute_input": "2024-08-04T15:22:39.726139Z",
     "iopub.status.busy": "2024-08-04T15:22:39.725157Z",
     "iopub.status.idle": "2024-08-04T15:23:04.884051Z",
     "shell.execute_reply": "2024-08-04T15:23:04.883045Z",
     "shell.execute_reply.started": "2024-08-04T15:22:39.726139Z"
    }
   },
   "outputs": [
    {
     "name": "stdout",
     "output_type": "stream",
     "text": [
      "Requirement already satisfied: pandas in c:\\users\\hifro\\anaconda3\\envs\\chess_project\\lib\\site-packages (2.2.2)\n",
      "Requirement already satisfied: numpy>=1.26.0 in c:\\users\\hifro\\anaconda3\\envs\\chess_project\\lib\\site-packages (from pandas) (2.0.1)\n",
      "Requirement already satisfied: python-dateutil>=2.8.2 in c:\\users\\hifro\\anaconda3\\envs\\chess_project\\lib\\site-packages (from pandas) (2.9.0.post0)\n",
      "Requirement already satisfied: pytz>=2020.1 in c:\\users\\hifro\\anaconda3\\envs\\chess_project\\lib\\site-packages (from pandas) (2024.1)\n",
      "Requirement already satisfied: tzdata>=2022.7 in c:\\users\\hifro\\anaconda3\\envs\\chess_project\\lib\\site-packages (from pandas) (2024.1)\n",
      "Requirement already satisfied: six>=1.5 in c:\\users\\hifro\\anaconda3\\envs\\chess_project\\lib\\site-packages (from python-dateutil>=2.8.2->pandas) (1.16.0)\n",
      "Collecting tabulate\n",
      "  Downloading tabulate-0.9.0-py3-none-any.whl.metadata (34 kB)\n",
      "Downloading tabulate-0.9.0-py3-none-any.whl (35 kB)\n",
      "Installing collected packages: tabulate\n",
      "Successfully installed tabulate-0.9.0\n",
      "Requirement already satisfied: numpy in c:\\users\\hifro\\anaconda3\\envs\\chess_project\\lib\\site-packages (2.0.1)\n"
     ]
    }
   ],
   "source": [
    "!pip install pandas\n",
    "!pip install tabulate\n",
    "import pandas as pd\n",
    "!pip install numpy\n",
    "import numpy as np\n",
    "import traceback\n",
    "pd.__version__\n",
    "pd.set_option('future.no_silent_downcasting', True)"
   ]
  },
  {
   "cell_type": "markdown",
   "id": "4ad31378-cf47-414d-b531-9693f592a1f3",
   "metadata": {},
   "source": [
    "This is old code used to write games to a text file."
   ]
  },
  {
   "cell_type": "code",
   "execution_count": null,
   "id": "0420ec4d-4d9f-43a6-980c-8936b93a981a",
   "metadata": {},
   "outputs": [],
   "source": [
    "with open(\"FirstLinesOfGames.txt\",\"w\") as wfile:\n",
    "    with open(\"PGN_Database_1.pgn\",\"r\") as rfile:\n",
    "        for i in range(0,20000):\n",
    "            wfile.write(rfile.readline())"
   ]
  },
  {
   "cell_type": "markdown",
   "id": "21b1d9b2-8e98-43f5-a36a-0d0764f7ef34",
   "metadata": {},
   "source": [
    "## Section 2: Defining functions"
   ]
  },
  {
   "cell_type": "markdown",
   "id": "2ca8568f-8eba-4f5d-ae26-de78956fb3cc",
   "metadata": {},
   "source": [
    "The below code defines the functions **ImportGames** and **ImportAllGames**. \n",
    "These functions import chess games from a local PGN file and input them into a pandas DataFrame which will be names Game_db. The function **ImportAllGames** takes the parameter number of opening moves, which decides how many opening moves of the game to list in Game_db, and **ImportGames** additionally takes a parameter for how many games to be imported from the file."
   ]
  },
  {
   "cell_type": "code",
   "execution_count": 51,
   "id": "0fcd376a-7bc4-44ce-9d98-ee679175eee1",
   "metadata": {
    "execution": {
     "iopub.execute_input": "2024-08-04T14:22:52.067445Z",
     "iopub.status.busy": "2024-08-04T14:22:52.066446Z",
     "iopub.status.idle": "2024-08-04T14:22:52.127347Z",
     "shell.execute_reply": "2024-08-04T14:22:52.125338Z",
     "shell.execute_reply.started": "2024-08-04T14:22:52.066446Z"
    }
   },
   "outputs": [],
   "source": [
    "GameData = {}\n",
    "Event = []\n",
    "Site = []\n",
    "Date = []\n",
    "Round = []\n",
    "White = []\n",
    "Black = []\n",
    "Result = []\n",
    "WhiteElo = []\n",
    "BlackElo = []\n",
    "ECO = []\n",
    "EventDate = []\n",
    "Opening = []\n",
    "WhiteFideID = []\n",
    "BlackFideID = []\n",
    "#Game = []\n",
    "#Game_db = pd.DataFrame()\n",
    "\n",
    "i = 0\n",
    "\n",
    "def ImportGames(NoGames, NoOpeningMoves: int = 7, StartingFromGame = 0):  #Creates files of games and df -- if run twice will overwrite file/start from the beginning\n",
    "                                                                 #StartingFromGame not yet implemented\n",
    "    GameData = {} #initiates variables\n",
    "    Result = []\n",
    "    WhiteElo = []\n",
    "    BlackElo = []\n",
    "    Opening = []\n",
    "    Game = []\n",
    "    \n",
    "    NoOpeningMovesString = str(NoOpeningMoves + 1) + \".\" #converts to string so we can use it to search for substring\n",
    "    counter = 0\n",
    "\n",
    "    try: \n",
    "        with open(\"PGN_Database_1.pgn\",\"r\", encoding=\"utf-8\") as rfile: #opens the file of all games\n",
    "            for line in rfile: #significantly faster then using readlines()\n",
    "                if counter <= NoGames: #breaks if not\n",
    "                    if \"Result\" in line: #Adds line to correct list\n",
    "                        while len(Result) != counter: #Makes sure all lists are same length, while in case missed multiple in a row\n",
    "                            if len(Result) < counter: \n",
    "                                Result.append(\"Null\") #Puts null if Result data missing from game\n",
    "                            else:\n",
    "                                Result.pop() #Due to counter off games, if game missing then removes Result data as well\n",
    "                        Result.append(line[9:-3]) #Adds only text interested to into list\n",
    "            \n",
    "                    elif \"WhiteElo\" in line:\n",
    "                        while len(WhiteElo) != counter:\n",
    "                            if len(WhiteElo) < counter:\n",
    "                                WhiteElo.append(0) #Sets unknow ELO to 0\n",
    "                            else:\n",
    "                                WhiteElo.pop()\n",
    "                        WhiteElo.append(line[11:-3])\n",
    "        \n",
    "                    elif \"BlackElo\" in line:\n",
    "                        while len(BlackElo) != counter:\n",
    "                            if len(BlackElo) < counter:\n",
    "                                BlackElo.append(0)\n",
    "                            else:\n",
    "                                BlackElo.pop()\n",
    "                        BlackElo.append(line[11:-3])\n",
    "        \n",
    "                    elif \"Opening\" in line:\n",
    "                        while len(Opening) != counter:\n",
    "                            if len(Opening) < counter:\n",
    "                                Opening.append(\"Null\")\n",
    "                            else:\n",
    "                                Opening.pop()\n",
    "                        Opening.append(line[10:-3])\n",
    "        \n",
    "                    elif line[0:2] == \"1.\" and \"12\" in line: #Game doesn't have specific word, need the dot (.) as sometimes just result e.g. 1-0 is listed, also min of 12 moves\n",
    "                        counter = counter + 1\n",
    "                        j = line.find(NoOpeningMovesString) #Only add the number of moves specified when function called\n",
    "                        Game.append(line[:j-1])\n",
    "                else:\n",
    "                    break\n",
    "                \n",
    "            for List in (Result,Opening, Game): #Final Check if last one is missing - adding null\n",
    "                while len(List) != counter:                       \n",
    "                    if len(List) < counter:\n",
    "                        List.append(\"Null\")\n",
    "                    else:\n",
    "                        List.pop()\n",
    "                        \n",
    "            for List in (WhiteElo, BlackElo): #Final Check if last one is missing - adding 0\n",
    "                while len(List) != counter:                          \n",
    "                    if len(List) < counter:\n",
    "                        List.append(0)\n",
    "                    else:\n",
    "                        List.pop()\n",
    "        \n",
    "            GameData = {\"Opening\":Opening,\"WhiteElo\":WhiteElo,\"BlackElo\":BlackElo,\"Result\":Result,\"Moves\":Game}\n",
    "            global Game_db\n",
    "            Game_db = pd.DataFrame(GameData) #creates our df and makes it global\n",
    "            \n",
    "\n",
    "        return Game_db\n",
    "        \n",
    "    except Exception as error:\n",
    "        print(\"Ran into error \", Exception, error)\n",
    "        print(traceback.format_exc())\n",
    "\n",
    "\n",
    "def ImportAllGames(NoOpeningMoves: int = 7, StartingFromGame = 0):  #Same as ImportGames, just goes to end of file\n",
    "    GameData = {}\n",
    "    Result = []\n",
    "    WhiteElo = []\n",
    "    BlackElo = []\n",
    "    Opening = []\n",
    "    Game = []\n",
    "    \n",
    "    NoOpeningMovesString = str(NoOpeningMoves + 1) + \".\"\n",
    "    counter = 0\n",
    "\n",
    "    try: \n",
    "        with open(\"PGN_Database_1.pgn\",\"r\", encoding=\"utf-8\") as rfile:\n",
    "            for line in rfile:\n",
    "                if \"Result\" in line: #need result to not be null - remove all\n",
    "                    while len(Result) != counter:\n",
    "                        if len(Result) < counter:\n",
    "                            Result.append(\"Null\")\n",
    "                        else:\n",
    "                            Result.pop()\n",
    "                    Result.append(line[9:-3])\n",
    "                    \n",
    "                elif \"WhiteElo\" in line: #multiple missing in a row?\n",
    "                    while len(WhiteElo) != counter:\n",
    "                        if len(WhiteElo) < counter:\n",
    "                            WhiteElo.append(0)\n",
    "                        else:\n",
    "                            WhiteElo.pop()\n",
    "                    WhiteElo.append(line[11:-3])\n",
    "        \n",
    "                elif \"BlackElo\" in line:\n",
    "                    while len(BlackElo) != counter:\n",
    "                        if len(BlackElo) < counter:\n",
    "                            BlackElo.append(0)\n",
    "                        else:\n",
    "                            BlackElo.pop()\n",
    "                    BlackElo.append(line[11:-3])\n",
    "        \n",
    "                elif \"Opening\" in line:\n",
    "                    while len(Opening) != counter:\n",
    "                        if len(Opening) < counter:\n",
    "                            Opening.append(\"Null\")\n",
    "                        else:\n",
    "                            Opening.pop()\n",
    "                    Opening.append(line[10:-3])\n",
    "        \n",
    "                elif line[0:2] == \"1.\" and \"12\" in line: #COuld also put in each of Result,BlackElo etc. Think if Game empty.                   \n",
    "                    counter = counter + 1\n",
    "                    j = line.find(NoOpeningMovesString)\n",
    "                    Game.append(line[:j-1])\n",
    "\n",
    "                elif line == \"\": #Unnecessary?\n",
    "                    print(\"Reached end of file\")\n",
    "                    break\n",
    "\n",
    "            for List in (Result,Opening, Game): #Final Check if last one is missing - adding null\n",
    "                while len(List) != counter:                       \n",
    "                    if len(List) < counter:\n",
    "                        List.append(\"Null\")\n",
    "                    else:\n",
    "                        List.pop()\n",
    "                        \n",
    "            for List in (WhiteElo, BlackElo): #Final Check if last one is missing - adding 0\n",
    "                while len(List) != counter:                          \n",
    "                    if len(List) < counter:\n",
    "                        List.append(0)\n",
    "                    else:\n",
    "                        List.pop()\n",
    "        \n",
    "            GameData = {\"Opening\":Opening,\"WhiteElo\":WhiteElo,\"BlackElo\":BlackElo,\"Result\":Result,\"Moves\":Game}\n",
    "            global Game_db\n",
    "            Game_db = pd.DataFrame(GameData)            \n",
    "\n",
    "        return Game_db\n",
    "        \n",
    "    except Exception as error:\n",
    "        print(\"Ran into error \", Exception, error)\n",
    "        print(traceback.format_exc())\n",
    "\n",
    "\n",
    "            \n",
    "        "
   ]
  },
  {
   "cell_type": "markdown",
   "id": "a6570d65-324a-4a0b-b0a3-d96455c44896",
   "metadata": {},
   "source": [
    "Next we define two more functions **CleanDf** and **SplitDf** below. \n",
    "\n",
    "The function **CleanDf** cleans the given database by removing entries that don't have a result, and converting the string result values into floats off 1, 0.5, 0 for white win, draw and black win respectively. It also sets the type of each column in the dataframe to make manipulating data easier in the future. Finally **CleanDf** takes parameters of the dataframe to be cleaned and a rating gap, which eliminates all games that have a difference in Elo of the two players higher than the given rating gap. This is to ensure the games considered for analysis will be between players of relatively close ability.\n",
    "\n",
    "The function **SplitDf** takes our dataframe and a rating increment parameter, and then creates new dataframes of games in a specific rating range, for instance if the rating increment is 100 (which is the current default) the game database will be split into dataframes: rating[0], rating[1200], rating[1300], rating[1400] ... rating[2800], rating[2900], rating[3000]. These dataframes can then be analysed to see how the openings vary at different ratings."
   ]
  },
  {
   "cell_type": "code",
   "execution_count": 72,
   "id": "c161d602-1c37-43be-b825-b0a4653db6a7",
   "metadata": {
    "execution": {
     "iopub.execute_input": "2024-08-04T14:42:35.280062Z",
     "iopub.status.busy": "2024-08-04T14:42:35.279061Z",
     "iopub.status.idle": "2024-08-04T14:42:35.300503Z",
     "shell.execute_reply": "2024-08-04T14:42:35.299498Z",
     "shell.execute_reply.started": "2024-08-04T14:42:35.280062Z"
    }
   },
   "outputs": [],
   "source": [
    "#Game_db_new = pd.DataFrame()\n",
    "#ImportAllGames(10)\n",
    "\n",
    "def CleanDf(df,Rating_gap = 100):\n",
    "    global Game_db_new\n",
    "    \n",
    "    df = df[df[\"Result\"].isin([\"1-0\",\"1/2-1/2\",\"0-1\"])] #Removes any games with different result\n",
    "    df.loc[:,\"Result\"] = df[\"Result\"].replace({\"1-0\":1, \"1/2-1/2\":0.5,\"0-1\":0}) #Converts result to numbers\n",
    "    df = df.astype({\"Opening\":\"string\",\"BlackElo\":int,\"WhiteElo\":int,\"Result\":float,\"Moves\":\"string\"}) #typecasts each column \"WhiteElo\":int\n",
    "    df = df[abs(df[\"WhiteElo\"] - df[\"BlackElo\"]) < Rating_gap] #Shows only games within a certain rating\n",
    "    \n",
    "\n",
    "    Game_db_new = df\n",
    "    return Game_db_new\n",
    "\n",
    "def SplitDf(Rating_increment, df = pd.DataFrame()):\n",
    "\n",
    "    df_copy = df\n",
    "    global Rating_df\n",
    "    Rating_df = {}\n",
    "    i = 1200\n",
    "    global Rating_cieling\n",
    "    Rating_cieling = [0]\n",
    "    while i in range(1200,3000):\n",
    "        Rating_cieling.append(i)\n",
    "        i = i + Rating_increment\n",
    "    print(Rating_cieling)\n",
    "\n",
    "    j = 0\n",
    "    try:\n",
    "        df_copy.insert(3, \"AverageElo\", (df[\"WhiteElo\"] + df[\"BlackElo\"])/2,allow_duplicates=False)\n",
    "    except Exception as error:\n",
    "        print(f\"Error is :{Exception}, and {error}\")\n",
    "    #print(df)\n",
    "    while j < len(Rating_cieling)-1:\n",
    "\n",
    "        Rating_df[Rating_cieling[j]] = df_copy[df_copy[\"AverageElo\"].isin(range(Rating_cieling[j],Rating_cieling[j+1]))]\n",
    "        j = j + 1\n",
    "    #print(df)\n",
    "    return\n",
    "    \n"
   ]
  },
  {
   "cell_type": "markdown",
   "id": "19d32bb8-1e09-4ad8-bd57-db3aecd4c81a",
   "metadata": {},
   "source": [
    "## Section 3: Analysing games (WIP)"
   ]
  },
  {
   "cell_type": "code",
   "execution_count": 73,
   "id": "c1835b97-7d1f-40b6-9188-00c873c8efa4",
   "metadata": {
    "execution": {
     "iopub.execute_input": "2024-08-04T14:42:37.453656Z",
     "iopub.status.busy": "2024-08-04T14:42:37.453656Z",
     "iopub.status.idle": "2024-08-04T14:42:46.261783Z",
     "shell.execute_reply": "2024-08-04T14:42:46.260780Z",
     "shell.execute_reply.started": "2024-08-04T14:42:37.453656Z"
    }
   },
   "outputs": [
    {
     "name": "stdout",
     "output_type": "stream",
     "text": [
      "[0, 1200, 1300, 1400, 1500, 1600, 1700, 1800, 1900, 2000, 2100, 2200, 2300, 2400, 2500, 2600, 2700, 2800, 2900]\n",
      "Error is :<class 'Exception'>, and cannot insert AverageElo, already exists\n"
     ]
    },
    {
     "data": {
      "text/plain": [
       "[0,\n",
       " 1200,\n",
       " 1300,\n",
       " 1400,\n",
       " 1500,\n",
       " 1600,\n",
       " 1700,\n",
       " 1800,\n",
       " 1900,\n",
       " 2000,\n",
       " 2100,\n",
       " 2200,\n",
       " 2300,\n",
       " 2400,\n",
       " 2500,\n",
       " 2600,\n",
       " 2700,\n",
       " 2800,\n",
       " 2900]"
      ]
     },
     "execution_count": 73,
     "metadata": {},
     "output_type": "execute_result"
    }
   ],
   "source": [
    "#ImportGames(4000000)\n",
    "#CleanDf(Game_db)\n",
    "#print(Game_db_new.dtypes)\n",
    "#Game_db_new\n",
    "#ImportAllGames()\n",
    "#CleanDf(Game_db)\n",
    "SplitDf(100,Game_db_new)\n",
    "Rating_cieling\n",
    "#Game_db[Game_db.isnull()==True]\n"
   ]
  },
  {
   "cell_type": "code",
   "execution_count": 76,
   "id": "172acd54-7523-4126-88bb-29513c561d0d",
   "metadata": {
    "execution": {
     "iopub.execute_input": "2024-08-04T14:47:49.923669Z",
     "iopub.status.busy": "2024-08-04T14:47:49.922673Z",
     "iopub.status.idle": "2024-08-04T14:47:49.934417Z",
     "shell.execute_reply": "2024-08-04T14:47:49.933409Z",
     "shell.execute_reply.started": "2024-08-04T14:47:49.923669Z"
    }
   },
   "outputs": [
    {
     "name": "stdout",
     "output_type": "stream",
     "text": [
      "The size of db 0 is (637377, 6)\n",
      "The size of db 1200 is (403, 6)\n",
      "The size of db 1300 is (632, 6)\n",
      "The size of db 1400 is (884, 6)\n",
      "The size of db 1500 is (1589, 6)\n",
      "The size of db 1600 is (2799, 6)\n",
      "The size of db 1700 is (4459, 6)\n",
      "The size of db 1800 is (7488, 6)\n",
      "The size of db 1900 is (14106, 6)\n",
      "The size of db 2000 is (38799, 6)\n",
      "The size of db 2100 is (71373, 6)\n",
      "The size of db 2200 is (122712, 6)\n",
      "The size of db 2300 is (145222, 6)\n",
      "The size of db 2400 is (152940, 6)\n",
      "The size of db 2500 is (103477, 6)\n",
      "The size of db 2600 is (52501, 6)\n",
      "The size of db 2700 is (18279, 6)\n",
      "The size of db 2800 is (1101, 6)\n"
     ]
    }
   ],
   "source": [
    "for rating in Rating_cieling[:-1]:\n",
    "    print(f\"The size of db {rating} is {Rating_df[rating].shape}\")\n",
    "#Game_db_new"
   ]
  },
  {
   "cell_type": "code",
   "execution_count": 91,
   "id": "41baf720-efba-4d78-9f33-6eb4b38de165",
   "metadata": {
    "execution": {
     "iopub.execute_input": "2024-08-04T15:26:14.120746Z",
     "iopub.status.busy": "2024-08-04T15:26:14.120746Z",
     "iopub.status.idle": "2024-08-04T15:26:15.365698Z",
     "shell.execute_reply": "2024-08-04T15:26:15.362690Z",
     "shell.execute_reply.started": "2024-08-04T15:26:14.120746Z"
    }
   },
   "outputs": [
    {
     "data": {
      "text/plain": [
       "Opening\n",
       "Null                                              19674\n",
       "Sicilian                                           3596\n",
       "French                                             1410\n",
       "King's Indian                                       926\n",
       "Queen's pawn game                                   903\n",
       "                                                  ...  \n",
       "Caro-Masi defence                                     1\n",
       "Neo-Gruenfeld, 5.cd                                   1\n",
       "King's knight's gambit                                1\n",
       "Blumenfeld counter-gambit, Spielmann variation        1\n",
       "Semi-Benoni (`blockade variation')                    1\n",
       "Name: count, Length: 220, dtype: Int64"
      ]
     },
     "execution_count": 91,
     "metadata": {},
     "output_type": "execute_result"
    }
   ],
   "source": [
    "Rating_df[2000][\"Opening\"].value_counts()\n",
    "#Game_db.value_counts()"
   ]
  }
 ],
 "metadata": {
  "kernelspec": {
   "display_name": "Python 3 (ipykernel)",
   "language": "python",
   "name": "python3"
  },
  "language_info": {
   "codemirror_mode": {
    "name": "ipython",
    "version": 3
   },
   "file_extension": ".py",
   "mimetype": "text/x-python",
   "name": "python",
   "nbconvert_exporter": "python",
   "pygments_lexer": "ipython3",
   "version": "3.12.4"
  }
 },
 "nbformat": 4,
 "nbformat_minor": 5
}
